{
 "cells": [
  {
   "cell_type": "code",
   "execution_count": 3,
   "metadata": {},
   "outputs": [
    {
     "name": "stdout",
     "output_type": "stream",
     "text": [
      "234 234\n"
     ]
    }
   ],
   "source": [
    "# 이미지와 라벨의 수가 맞는지 확인\n",
    "from glob import glob\n",
    "img_list = glob('/home/kkyu/amr_ws/yolo/src/test_data/*.jpg')\n",
    "label_list = glob('/home/kkyu/amr_ws/yolo/src/test_data/*.txt')\n",
    "print(len(img_list), len(label_list))"
   ]
  },
  {
   "cell_type": "code",
   "execution_count": 4,
   "metadata": {},
   "outputs": [
    {
     "name": "stdout",
     "output_type": "stream",
     "text": [
      "163 71\n"
     ]
    }
   ],
   "source": [
    "# train과 validation 데이터 나누기\n",
    "from sklearn.model_selection import train_test_split\n",
    "train_img_list, val_img_list = train_test_split(img_list, test_size = 0.3,\n",
    "random_state = 200)\n",
    "print(len(train_img_list), len(val_img_list))"
   ]
  },
  {
   "cell_type": "code",
   "execution_count": 8,
   "metadata": {},
   "outputs": [],
   "source": [
    "# 나눈 데이터를 txt파일로 저장\n",
    "with open('/home/kkyu/amr_ws/yolo/yolov3/train.txt','w') as f:\n",
    "    f.write('\\n'.join(train_img_list)+'\\n')\n",
    "with open('/home/kkyu/amr_ws/yolo/yolov3/val.txt', 'w') as f:\n",
    "    f.write('\\n'.join(val_img_list)+'\\n')\n"
   ]
  },
  {
   "cell_type": "markdown",
   "metadata": {},
   "source": [
    "#모델 학습 코드\n",
    "\n",
    "cd\n",
    "\n",
    "cd yolov3\n",
    "\n",
    "python train.py --img 640 --batch 32 --epochs 100 --data ./data/mydata.yaml --cfg ./\n",
    "models/yolov3-tiny.yaml --weights '' --name yolov3_cl2"
   ]
  },
  {
   "cell_type": "markdown",
   "metadata": {},
   "source": [
    "#모델 추론 코드\n",
    "\n",
    "cd\n",
    "\n",
    "cd yolov3\n",
    "\n",
    "python detect.py --weights ./runs/train/yolov3_cl2/weights/best.pt --source .mydata/\n",
    "test/2.jpg --img 640"
   ]
  },
  {
   "cell_type": "markdown",
   "metadata": {},
   "source": [
    "##### 랩탑 내장 카메라로 추론을 원할 경우 source에 0 / 원하는 이미지가 있다면 source에 경로를 써주면 된다\n",
    "##### 결과는 ./runs/detect/exp? 으로 저장된다\n",
    "\n",
    "python detect.py --weights ./runs/train/yolov3_cl2_5/weights/best.pt --source 0 --img\n",
    "640"
   ]
  },
  {
   "cell_type": "markdown",
   "metadata": {},
   "source": [
    "##### argument로 설정되어있다!\n",
    "##### 기본 default는 0.25로 설정되어있음\n",
    "\n",
    "python detect.py --weights ./runs/train/yolov3_cl2/weights/best.pt --source 0 --img\n",
    "640 --conf-thres 0.5"
   ]
  }
 ],
 "metadata": {
  "kernelspec": {
   "display_name": "deep_test",
   "language": "python",
   "name": "python3"
  },
  "language_info": {
   "codemirror_mode": {
    "name": "ipython",
    "version": 3
   },
   "file_extension": ".py",
   "mimetype": "text/x-python",
   "name": "python",
   "nbconvert_exporter": "python",
   "pygments_lexer": "ipython3",
   "version": "3.10.12"
  }
 },
 "nbformat": 4,
 "nbformat_minor": 2
}
